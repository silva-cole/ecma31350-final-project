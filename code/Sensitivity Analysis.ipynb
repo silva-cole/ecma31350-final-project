{
 "cells": [
  {
   "cell_type": "code",
   "execution_count": 1,
   "id": "194872e0",
   "metadata": {},
   "outputs": [],
   "source": [
    "import numpy as np\n",
    "import pandas as pd\n",
    "import scipy as sp\n",
    "from sklearn.ensemble import RandomForestClassifier, RandomForestRegressor\n",
    "from sklearn.linear_model import LinearRegression\n",
    "from sklearn.model_selection import KFold, StratifiedKFold, train_test_split\n",
    "from sklearn.metrics import mean_squared_error, log_loss\n",
    "from sklearn import preprocessing\n",
    "import sklearn\n",
    "import os\n",
    "from matplotlib.pyplot import hist\n",
    "from scipy import stats\n",
    "from xgboost import XGBClassifier\n",
    "from xgboost import XGBRegressor\n",
    "import pathlib\n",
    "\n",
    "from austen_plots.AustenPlot import AustenPlot"
   ]
  },
  {
   "cell_type": "code",
   "execution_count": 2,
   "id": "5ea16dde",
   "metadata": {},
   "outputs": [],
   "source": [
    "# set random seed for numpy\n",
    "RANDOM_SEED=150\n",
    "np.random.seed(RANDOM_SEED)"
   ]
  },
  {
   "cell_type": "code",
   "execution_count": 3,
   "id": "0b16c41e",
   "metadata": {},
   "outputs": [],
   "source": [
    "# read in the dataframe\n",
    "faculty_df = pd.read_csv('../data/final_df.csv')"
   ]
  },
  {
   "cell_type": "code",
   "execution_count": 4,
   "id": "91d21b70",
   "metadata": {},
   "outputs": [],
   "source": [
    "def att_aiptw(Q0, Q1, g, A, Y, prob_t=None):\n",
    "    \"\"\"\n",
    "    Double ML estimator for the ATT\n",
    "    This uses the ATT specific scores, see equation 3.9 of https://www.econstor.eu/bitstream/10419/149795/1/869216953.pdf\n",
    "    Return: aiptw of ATE and its standard error\n",
    "    \"\"\"\n",
    "    \n",
    "    # number of observations\n",
    "    n = Y.shape[0]\n",
    "    \n",
    "    # estimate marginal probability of treatment\n",
    "    if prob_t is None:\n",
    "        prob_t = A.mean() \n",
    "    \n",
    "    # att aiptw\n",
    "    tau_hat = (A*(Y-Q0) - (1-A)*(g/(1-g))*(Y-Q0)).mean()/ prob_t\n",
    "  \n",
    "    # influence curve and standard error of aiptw\n",
    "    phi = (A*(Y-Q0) - (1-A)*(g/(1-g))*(Y-Q0) - tau_hat*A) / prob_t\n",
    "    std_hat = np.std(phi) / np.sqrt(n)\n",
    "\n",
    "    return tau_hat, std_hat"
   ]
  },
  {
   "cell_type": "code",
   "execution_count": 5,
   "id": "0acdbb22",
   "metadata": {},
   "outputs": [],
   "source": [
    "def make_xgboost_g_model():\n",
    "    return XGBClassifier(n_estimators=50, max_depth=3)\n",
    "\n",
    "def make_xgboost_Q_model():\n",
    "    return XGBRegressor(random_state=RANDOM_SEED, n_estimators=500, max_depth=None)"
   ]
  },
  {
   "cell_type": "code",
   "execution_count": 6,
   "id": "de0026a7",
   "metadata": {},
   "outputs": [],
   "source": [
    "# helper functions to implement the cross fitting\n",
    "\n",
    "def treatment_k_fold_fit_and_predict(make_model, X:pd.DataFrame, A:np.array, n_splits:int):\n",
    "    \"\"\"\n",
    "    Implements K fold cross-fitting for the model predicting the treatment A. \n",
    "    That is, \n",
    "    1. Split data into K folds\n",
    "    2. For each fold j, the model is fit on the other K-1 folds\n",
    "    3. The fitted model is used to make predictions for each data point in fold j\n",
    "    Returns an array containing the predictions  \n",
    "\n",
    "    Args:\n",
    "    model: function that returns sklearn model (which implements fit and predict_prob)\n",
    "    X: dataframe of variables to adjust for\n",
    "    A: array of treatments\n",
    "    n_splits: number of splits to use\n",
    "    \"\"\"\n",
    "    predictions = np.full_like(A, np.nan, dtype=float)\n",
    "    kf = StratifiedKFold(n_splits=n_splits, shuffle=True, random_state=RANDOM_SEED)\n",
    "    \n",
    "    for train_index, test_index in kf.split(X, A):\n",
    "        X_train = X.loc[train_index]\n",
    "        A_train = A.loc[train_index]\n",
    "        g = make_model()\n",
    "        g.fit(X_train, A_train)\n",
    "\n",
    "        # get predictions for split\n",
    "        predictions[test_index] = g.predict_proba(X.loc[test_index])[:, 1]\n",
    "\n",
    "    assert np.isnan(predictions).sum() == 0\n",
    "    return predictions\n",
    "\n",
    "def outcome_k_fold_fit_and_predict(make_model, X:pd.DataFrame, y:np.array, A:np.array, n_splits:int, output_type:str):\n",
    "    \"\"\"\n",
    "    Implements K fold cross-fitting for the model predicting the outcome Y. \n",
    "    That is, \n",
    "    1. Split data into K folds\n",
    "    2. For each fold j, the model is fit on the other K-1 folds\n",
    "    3. The fitted model is used to make predictions for each data point in fold j\n",
    "    Returns two arrays containing the predictions for all units untreated, all units treated  \n",
    "\n",
    "    Args:\n",
    "    model: function that returns sklearn model (that implements fit and either predict_prob or predict)\n",
    "    X: dataframe of variables to adjust for\n",
    "    y: array of outcomes\n",
    "    A: array of treatments\n",
    "    n_splits: number of splits to use\n",
    "    output_type: type of outcome, \"binary\" or \"continuous\"\n",
    "\n",
    "    \"\"\"\n",
    "    predictions0 = np.full_like(A, np.nan, dtype=float)\n",
    "    predictions1 = np.full_like(y, np.nan, dtype=float)\n",
    "    if output_type == 'binary':\n",
    "        kf = StratifiedKFold(n_splits=n_splits, shuffle=True, random_state=RANDOM_SEED)\n",
    "    elif output_type == 'continuous':\n",
    "        kf = KFold(n_splits=n_splits, shuffle=True, random_state=RANDOM_SEED)\n",
    "\n",
    "    # include the treatment as input feature\n",
    "    X_w_treatment = X.copy()\n",
    "    X_w_treatment[\"A\"] = A\n",
    "\n",
    "    # for predicting effect under treatment / control status for each data point \n",
    "    X0 = X_w_treatment.copy()\n",
    "    X0[\"A\"] = 0\n",
    "    X1 = X_w_treatment.copy()\n",
    "    X1[\"A\"] = 1\n",
    "\n",
    "    \n",
    "    for train_index, test_index in kf.split(X_w_treatment, y):\n",
    "        X_train = X_w_treatment.loc[train_index]\n",
    "        y_train = y.loc[train_index]\n",
    "        q = make_model()\n",
    "        q.fit(X_train, y_train)\n",
    "\n",
    "        if output_type =='binary':\n",
    "            predictions0[test_index] = q.predict_proba(X0.loc[test_index])[:, 1]\n",
    "            predictions1[test_index] = q.predict_proba(X1.loc[test_index])[:, 1]\n",
    "        elif output_type == 'continuous':\n",
    "            predictions0[test_index] = q.predict(X0.loc[test_index])\n",
    "            predictions1[test_index] = q.predict(X1.loc[test_index])\n",
    "\n",
    "    assert np.isnan(predictions0).sum() == 0\n",
    "    assert np.isnan(predictions1).sum() == 0\n",
    "    return predictions0, predictions1"
   ]
  },
  {
   "cell_type": "code",
   "execution_count": 30,
   "id": "a01940b4",
   "metadata": {},
   "outputs": [],
   "source": [
    "faculty_df_5 = faculty_df[(faculty_df['rank'] <= 5) & (faculty_df['psych'] == 0)].reset_index()"
   ]
  },
  {
   "cell_type": "code",
   "execution_count": 31,
   "id": "68d4685f",
   "metadata": {},
   "outputs": [],
   "source": [
    "outcome = \"tenure\"\n",
    "treatment = \"letter_binarized\"\n",
    "confounders = [\"indian\",\n",
    "               \"otherasian\",\n",
    "               \"jewish\",\n",
    "               'indian2',\n",
    "               'otherasian2',\n",
    "               'jewish2',\n",
    "               'citations']\n",
    "faculty_df[outcome] = faculty_df_5[outcome].fillna(0)\n",
    "confounders = faculty_df_5[confounders]\n",
    "treatment = faculty_df_5[treatment]\n",
    "outcome = faculty_df_5[outcome]"
   ]
  },
  {
   "cell_type": "code",
   "execution_count": 32,
   "id": "798d7de3",
   "metadata": {},
   "outputs": [],
   "source": [
    "tau_hat = -0.113354\n",
    "std_hat = 0.047728"
   ]
  },
  {
   "cell_type": "code",
   "execution_count": 33,
   "id": "1af57b16",
   "metadata": {},
   "outputs": [],
   "source": [
    "target_bias = 0.02"
   ]
  },
  {
   "cell_type": "code",
   "execution_count": 34,
   "id": "08e056eb",
   "metadata": {},
   "outputs": [],
   "source": [
    "covariate_groups = {\n",
    "    'race': ['indian',\n",
    "             'indian2',\n",
    "             'otherasian',\n",
    "             'otherasian2',\n",
    "             'jewish',\n",
    "             'jewish2'\n",
    "            ],\n",
    "    'ability': ['citations']\n",
    "    }\n"
   ]
  },
  {
   "cell_type": "code",
   "execution_count": 44,
   "id": "111e1f3d",
   "metadata": {},
   "outputs": [],
   "source": [
    "# For each covariate group, refit the models without using that group\n",
    "nuisance_estimates = {}\n",
    "for group, covs in covariate_groups.items():\n",
    "    remaining_confounders = confounders.drop(columns=covs)\n",
    "\n",
    "    g = treatment_k_fold_fit_and_predict(make_xgboost_g_model, X=remaining_confounders, A=treatment, n_splits=5)\n",
    "    Q0, Q1 = outcome_k_fold_fit_and_predict(make_xgboost_Q_model, X=remaining_confounders, y=outcome, A=treatment, n_splits=5, output_type=\"continuous\")\n",
    "\n",
    "    data_and_nuisance_estimates = pd.DataFrame({'g': g, 'Q0': Q0, 'Q1': Q1, 'A': treatment, 'Y': outcome})\n",
    "    nuisance_estimates[group] = data_and_nuisance_estimates"
   ]
  },
  {
   "cell_type": "code",
   "execution_count": 45,
   "id": "bba541f7",
   "metadata": {},
   "outputs": [],
   "source": [
    "data_and_nuisance_path = 'data_and_nuisance_estimates.csv'\n",
    "covariate_dir_path = 'covariates/'"
   ]
  },
  {
   "cell_type": "code",
   "execution_count": 46,
   "id": "6c13adf6",
   "metadata": {},
   "outputs": [],
   "source": [
    "def _convert_to_austen_format(nuisance_estimate_df: pd.DataFrame):\n",
    "    austen_df = pd.DataFrame()\n",
    "    austen_df['y']=nuisance_estimate_df['Y']\n",
    "    austen_df['t']=nuisance_estimate_df['A']\n",
    "    austen_df['g']=nuisance_estimate_df['g']\n",
    "    A = nuisance_estimate_df['A']\n",
    "    austen_df['Q']=A*nuisance_estimate_df['Q1'] + (1-A)*nuisance_estimate_df['Q0'] # use Q1 when A=1, and Q0 when A=0\n",
    "\n",
    "    return austen_df"
   ]
  },
  {
   "cell_type": "code",
   "execution_count": 47,
   "id": "8e179438",
   "metadata": {},
   "outputs": [],
   "source": [
    "austen_data_and_nuisance = _convert_to_austen_format(data_and_nuisance_estimates)\n",
    "austen_data_and_nuisance.to_csv(data_and_nuisance_path, index=False)\n",
    "\n",
    "pathlib.Path(covariate_dir_path).mkdir(exist_ok=True)\n",
    "for group, nuisance_estimate in nuisance_estimates.items():\n",
    "    austen_nuisance_estimate = _convert_to_austen_format(nuisance_estimate)\n",
    "    austen_nuisance_estimate.to_csv(os.path.join(covariate_dir_path,group+\".csv\"), index=False)"
   ]
  },
  {
   "cell_type": "code",
   "execution_count": 48,
   "id": "ecd3f2a0",
   "metadata": {},
   "outputs": [],
   "source": [
    "ap = AustenPlot(data_and_nuisance_path, covariate_dir_path)"
   ]
  },
  {
   "cell_type": "code",
   "execution_count": 49,
   "id": "1ebfc31f",
   "metadata": {},
   "outputs": [
    {
     "name": "stdout",
     "output_type": "stream",
     "text": [
      "Fitting main dataset\n"
     ]
    }
   ],
   "source": [
    "p, plot_coords, variable_coords = ap.fit(bias=target_bias)"
   ]
  },
  {
   "cell_type": "code",
   "execution_count": 50,
   "id": "81846590",
   "metadata": {},
   "outputs": [
    {
     "data": {
      "image/png": "[encoded data removed]",
      "text/plain": [
       "<Figure size 350x350 with 1 Axes>"
      ]
     },
     "metadata": {},
     "output_type": "display_data"
    },
    {
     "data": {
      "text/plain": [
       "<ggplot: (8784275371475)>"
      ]
     },
     "execution_count": 50,
     "metadata": {},
     "output_type": "execute_result"
    }
   ],
   "source": [
    "p"
   ]
  },
  {
   "cell_type": "code",
   "execution_count": null,
   "id": "51401d40",
   "metadata": {},
   "outputs": [],
   "source": []
  }
 ],
 "metadata": {
  "kernelspec": {
   "display_name": "Python 3 (ipykernel)",
   "language": "python",
   "name": "python3"
  },
  "language_info": {
   "codemirror_mode": {
    "name": "ipython",
    "version": 3
   },
   "file_extension": ".py",
   "mimetype": "text/x-python",
   "name": "python",
   "nbconvert_exporter": "python",
   "pygments_lexer": "ipython3",
   "version": "3.9.12"
  }
 },
 "nbformat": 4,
 "nbformat_minor": 5
}
